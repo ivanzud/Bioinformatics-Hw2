{
 "cells": [
  {
   "cell_type": "code",
   "execution_count": 2,
   "metadata": {
    "ExecuteTime": {
     "end_time": "2020-04-13T00:37:30.678821Z",
     "start_time": "2020-04-13T00:37:30.579729Z"
    }
   },
   "outputs": [
    {
     "name": "stdout",
     "output_type": "stream",
     "text": [
      "6EZQ:A|PDBID|CHAIN|SEQUENCE\n",
      "Seq('DAHKSEVAHRFKDLGEENFKALVLIAFAQYLQQCPFEDHVKLVNEVTEFAKTCV...LGL', SingleLetterAlphabet())\n",
      "585\n"
     ]
    }
   ],
   "source": [
    "# Parses FASTA file using BioPython Library\n",
    "\n",
    "from Bio import SeqIO\n",
    "\n",
    "for seq_record in SeqIO.parse(\"6ezq.fasta.txt\", \"fasta\"):\n",
    "    print((seq_record.id))\n",
    "    print((repr(seq_record.seq)))\n",
    "    print((len(seq_record)))"
   ]
  },
  {
   "cell_type": "code",
   "execution_count": 3,
   "metadata": {
    "ExecuteTime": {
     "end_time": "2020-04-13T00:37:30.815596Z",
     "start_time": "2020-04-13T00:37:30.812902Z"
    },
    "code_folding": []
   },
   "outputs": [],
   "source": [
    "from Bio.Alphabet import IUPAC\n",
    "from Bio.Seq import Seq\n",
    "\n",
    "my_seq = seq_record.seq\n",
    "# for index, letter in enumerate(my_seq):\n",
    "#     print(\"%i %s\" % (index, letter))"
   ]
  },
  {
   "cell_type": "code",
   "execution_count": 39,
   "metadata": {
    "ExecuteTime": {
     "end_time": "2020-04-13T01:10:08.988751Z",
     "start_time": "2020-04-13T01:10:08.984938Z"
    }
   },
   "outputs": [],
   "source": [
    "from Bio.Seq import Seq\n",
    "from Bio import Alphabet\n",
    "from Bio.Alphabet import Reduced\n",
    "my_protein = seq_record.seq\n",
    "# Used BioPython hp conversion function from Library. Tested with the\n",
    "# Amino Acid Properties to be the same classification\n",
    "\n",
    "new_protein = Seq('', Alphabet.Reduced.HPModel())\n",
    "\n",
    "for aa in my_protein:\n",
    "    new_protein += Alphabet.Reduced.hp_model_tab[aa]\n",
    "\n",
    "\n",
    "#new_protein"
   ]
  },
  {
   "cell_type": "code",
   "execution_count": 38,
   "metadata": {
    "ExecuteTime": {
     "end_time": "2020-04-13T01:09:55.548166Z",
     "start_time": "2020-04-13T01:09:55.542446Z"
    }
   },
   "outputs": [],
   "source": [
    "# 0:F 1:L 2:R\n",
    "# generate random integer values\n",
    "from random import seed\n",
    "from random import randint\n",
    "from random import choice\n",
    "# seed random number generator\n",
    "\n",
    "\n",
    "def rnd_solution_generator(num_sol):\n",
    "\n",
    "    seed(1)\n",
    "    all_solutions = []\n",
    "    for j in range(num_sol):\n",
    "        \n",
    "        new_pop = []\n",
    "        counter = 0\n",
    "        for i in new_protein:\n",
    "            if(counter > 2):\n",
    "                if(new_pop[counter - 1] == new_pop[counter - 2]):\n",
    "                    rnd_Num = choice(\n",
    "                        [i for i in range(0, 2) if i not in [new_pop[counter - 1]]])\n",
    "                else:\n",
    "                    rnd_Num = randint(0, 2)\n",
    "\n",
    "            else:\n",
    "                rnd_Num = randint(0, 2)\n",
    "            new_pop.append(rnd_Num)\n",
    "            counter += 1\n",
    "        all_solutions.append(new_pop)\n",
    "        len(new_pop)\n",
    "    return all_solutions\n",
    "\n",
    "# all_sol = rnd_solution_generator(2)\n",
    "# len(all_sol)"
   ]
  },
  {
   "cell_type": "code",
   "execution_count": 44,
   "metadata": {
    "ExecuteTime": {
     "end_time": "2020-04-13T01:16:54.858331Z",
     "start_time": "2020-04-13T01:16:54.672829Z"
    }
   },
   "outputs": [],
   "source": [
    "##CREATES A BLANK MATRIX WITH EMPTY CHARACTERS CURRENT_GRID\n",
    "#-Fill the grid with empty characters-#\n",
    "# For each row of the grid\n",
    "current_element_idx = 0\n",
    "current_grid = []\n",
    "    \n",
    "for row in range(len(new_protein) * 2 - 1):\n",
    "\n",
    "    # Create a new empty list for that row\n",
    "    current_grid.append([])\n",
    "\n",
    "    # For each column of the grid\n",
    "    for col in range(len(new_protein) * 2 - 1):\n",
    "\n",
    "        # Add an empty character at the given row/column\n",
    "        current_grid[row].append(EMPTY)\n",
    "\n",
    "# Start the first protein element in the middle of the grid\n",
    "current_row = current_col = int((len(new_protein) * 2 - 1) / 2)"
   ]
  },
  {
   "cell_type": "code",
   "execution_count": 49,
   "metadata": {
    "ExecuteTime": {
     "end_time": "2020-04-17T22:25:56.015838Z",
     "start_time": "2020-04-17T22:25:56.009566Z"
    }
   },
   "outputs": [
    {
     "data": {
      "text/plain": [
       "1169"
      ]
     },
     "execution_count": 49,
     "metadata": {},
     "output_type": "execute_result"
    }
   ],
   "source": [
    "\n",
    "#CURRENTLY WORKING ON EDITING THIS FUNCTION TO MAKE IT WORK BY SCORING JUST 1 MATRIX AT A TIME\n",
    "#It works recursively\n",
    "\n",
    "def fold(protein, current_element_idx, current_grid,\n",
    "         current_row, current_col, direction, orientation, solution):\n",
    "\n",
    "    # Determine the new current row and column based on the current\n",
    "    # direction\n",
    "    if(orientation == )\n",
    "    if direction == 'R':\n",
    "        current_col += 1\n",
    "    elif direction == 'D':\n",
    "        current_row += 1\n",
    "    elif direction == 'L':\n",
    "        current_col -= 1\n",
    "    elif direction == 'U':\n",
    "        current_row -= 1\n",
    "\n",
    "    # If we are able to place an element at the current row and column\n",
    "    if current_grid[current_row][current_col] == EMPTY:\n",
    "\n",
    "        #-Make a copy of the current grid before we change it-#\n",
    "        new_grid = []\n",
    "        for row in range(len(protein) * 2 - 1):\n",
    "            new_grid.append([])\n",
    "            for col in range(len(protein) * 2 - 1):\n",
    "                new_grid[row].append(current_grid[row][col])\n",
    "\n",
    "        # Place the protein in the new grid\n",
    "        new_grid[current_row][current_col] = protein[current_element_idx]\n",
    "\n",
    "        # Check for H-H bonds in the current fold\n",
    "        if protein[current_element_idx] == 'H':\n",
    "\n",
    "            # Check to the left\n",
    "            if current_col > 0 and new_grid[current_row][current_col -\n",
    "                                                         1] == 'H':\n",
    "                current_num_H_bonds += 1\n",
    "\n",
    "            # Check above\n",
    "            if current_row > 0 and new_grid[current_row -\n",
    "                                            1][current_col] == 'H':\n",
    "                current_num_H_bonds += 1\n",
    "\n",
    "            # Check to the right\n",
    "            if current_col < len(new_grid[current_row]) - 1 and new_grid[\n",
    "                    current_row][current_col + 1] == 'H':\n",
    "                current_num_H_bonds += 1\n",
    "\n",
    "            # Check below\n",
    "            if current_row < len(new_grid) - 1 and new_grid[\n",
    "                    current_row + 1][current_col] == 'H':\n",
    "                current_num_H_bonds += 1\n",
    "\n",
    "        # Move on to the next element index\n",
    "        current_element_idx += 1\n",
    "\n",
    "        # If not end of string, choose each direction and recur\n",
    "        if current_element_idx != len(protein):\n",
    "            for direction in solution:\n",
    "                max_num_H_bonds = fold(protein,\n",
    "                                       current_element_idx, new_grid,\n",
    "                                       current_row, current_col, direction,\n",
    "                                       current_num_H_bonds)\n",
    "\n",
    "        else:\n",
    "            # If end of string, check if the current fold has more\n",
    "            # H-H bonds than the max we found before.\n",
    "            # if true update the max.  If we have the same number of\n",
    "            # H-H bonds, append the current grid to the list of best\n",
    "            # grids\n",
    "            if current_num_H_bonds > max_num_H_bonds:\n",
    "                max_num_H_bonds = current_num_H_bonds\n",
    "                del best_grids[:]\n",
    "                best_grids.append(new_grid)\n",
    "            elif current_num_H_bonds == max_num_H_bonds:\n",
    "                best_grids.append(new_grid)\n",
    "\n",
    "    # Return the count of the maximum number of H-H bonds\n",
    "    return max_num_H_bonds\n"
   ]
  },
  {
   "cell_type": "code",
   "execution_count": 40,
   "metadata": {
    "ExecuteTime": {
     "end_time": "2020-04-13T01:12:21.911153Z",
     "start_time": "2020-04-13T01:12:21.896464Z"
    },
    "cell_style": "center",
    "hide_input": false
   },
   "outputs": [],
   "source": [
    "import sys\n",
    "\n",
    "EMPTY = ' '  # This represents an empty character in the grid\n",
    "best_grids = []  # This is a list of the grids that contain the best foldings\n",
    "\n",
    "#---Main function definition---#\n",
    "\n",
    "\n",
    "def main():\n",
    "\n",
    "    #--Local variable initialization--#\n",
    "    current_element_idx = 0  # Index of the current element in protein\n",
    "    protein = 'HPPPPPPHH'  # Protein we are folding\n",
    "    # protein = \"HHPPHHHPHHPH\" # Protein we are folding\n",
    "    current_grid = []  # Grid in which we are currently folding\n",
    "    current_num_H_bonds = 0\n",
    "    max_num_H_bonds = 0  # Counters\n",
    "    print(\"Hello protein folders, beginning program\")  # Print a greeting\n",
    "\n",
    "    #-Fill the grid with empty characters-#\n",
    "    # For each row of the grid\n",
    "    for row in range(len(protein) * 2 - 1):\n",
    "\n",
    "        # Create a new empty list for that row\n",
    "        current_grid.append([])\n",
    "\n",
    "        # For each column of the grid\n",
    "        for col in range(len(protein) * 2 - 1):\n",
    "\n",
    "            # Add an empty character at the given row/column\n",
    "            current_grid[row].append(EMPTY)\n",
    "\n",
    "    # Start the first protein element in the middle of the grid\n",
    "    current_row = current_col = int((len(protein) * 2 - 1) / 2)\n",
    "\n",
    "    # Recursively find the best foldings, filling best_grid\n",
    "    print((\"Best number of H-H bonds\",\n",
    "           fold(protein, max_num_H_bonds, current_element_idx, current_grid,\n",
    "                current_row, current_col, ' ', current_num_H_bonds)))\n",
    "\n",
    "    #-Print the best grids-#\n",
    "    # For each of the best grids\n",
    "    for grid in range(len(best_grids)):\n",
    "\n",
    "        # Print the index of the grid\n",
    "        print(\"Grid \", grid, \":\")\n",
    "\n",
    "        # For each row in the grid\n",
    "        for row in range(len(protein) * 2 - 1):\n",
    "\n",
    "            # For each column in the grid\n",
    "            for col in range(len(protein) * 2 - 1):\n",
    "\n",
    "                # Print the character at the given row and\n",
    "                # column\n",
    "                print(best_grids[grid][row][col], end=' ')\n",
    "\n",
    "            # Print a line in between the rows\n",
    "            print('')\n",
    "\n",
    "\n",
    "#---Fold function definition---#\n",
    "\n",
    "\n",
    "def fold(protein, max_num_H_bonds, current_element_idx, current_grid,\n",
    "         current_row, current_col, direction, current_num_H_bonds):\n",
    "\n",
    "    # Determine the new current row and column based on the current\n",
    "    # direction\n",
    "    if direction == 'R':\n",
    "        current_col += 1\n",
    "    elif direction == 'D':\n",
    "        current_row += 1\n",
    "    elif direction == 'L':\n",
    "        current_col -= 1\n",
    "    elif direction == 'U':\n",
    "        current_row -= 1\n",
    "\n",
    "    # If we are able to place an element at the current row and column\n",
    "    if current_grid[current_row][current_col] == EMPTY:\n",
    "\n",
    "        #-Make a copy of the current grid before we change it-#\n",
    "        new_grid = []\n",
    "        for row in range(len(protein) * 2 - 1):\n",
    "            new_grid.append([])\n",
    "            for col in range(len(protein) * 2 - 1):\n",
    "                new_grid[row].append(current_grid[row][col])\n",
    "\n",
    "        # Place the protein in the new grid\n",
    "        new_grid[current_row][current_col] = protein[current_element_idx]\n",
    "\n",
    "        # Check for H-H bonds in the current fold\n",
    "        if protein[current_element_idx] == 'H':\n",
    "\n",
    "            # Check to the left\n",
    "            if current_col > 0 and new_grid[current_row][current_col -\n",
    "                                                         1] == 'H':\n",
    "                current_num_H_bonds += 1\n",
    "\n",
    "            # Check above\n",
    "            if current_row > 0 and new_grid[current_row -\n",
    "                                            1][current_col] == 'H':\n",
    "                current_num_H_bonds += 1\n",
    "\n",
    "            # Check to the right\n",
    "            if current_col < len(new_grid[current_row]) - 1 and new_grid[\n",
    "                    current_row][current_col + 1] == 'H':\n",
    "                current_num_H_bonds += 1\n",
    "\n",
    "            # Check below\n",
    "            if current_row < len(new_grid) - 1 and new_grid[\n",
    "                    current_row + 1][current_col] == 'H':\n",
    "                current_num_H_bonds += 1\n",
    "\n",
    "        # Move on to the next element index\n",
    "        current_element_idx += 1\n",
    "\n",
    "        # If not end of string, choose each direction and recur\n",
    "        if current_element_idx != len(protein):\n",
    "            for direction in ['R', 'D', 'L', 'U']:\n",
    "                max_num_H_bonds = fold(protein, max_num_H_bonds,\n",
    "                                       current_element_idx, new_grid,\n",
    "                                       current_row, current_col, direction,\n",
    "                                       current_num_H_bonds)\n",
    "\n",
    "        else:\n",
    "            # If end of string, check if the current fold has more\n",
    "            # H-H bonds than the max we found before.\n",
    "            # if true update the max.  If we have the same number of\n",
    "            # H-H bonds, append the current grid to the list of best\n",
    "            # grids\n",
    "            if current_num_H_bonds > max_num_H_bonds:\n",
    "                max_num_H_bonds = current_num_H_bonds\n",
    "                del best_grids[:]\n",
    "                best_grids.append(new_grid)\n",
    "            elif current_num_H_bonds == max_num_H_bonds:\n",
    "                best_grids.append(new_grid)\n",
    "\n",
    "    # Return the count of the maximum number of H-H bonds\n",
    "    return max_num_H_bonds\n",
    "\n",
    "\n",
    "##---Call main function-----##\n",
    "#main()"
   ]
  },
  {
   "cell_type": "code",
   "execution_count": null,
   "metadata": {
    "ExecuteTime": {
     "end_time": "2020-04-12T23:49:35.457978Z",
     "start_time": "2020-04-12T23:49:35.284308Z"
    }
   },
   "outputs": [],
   "source": []
  },
  {
   "cell_type": "code",
   "execution_count": null,
   "metadata": {},
   "outputs": [],
   "source": []
  },
  {
   "cell_type": "code",
   "execution_count": null,
   "metadata": {},
   "outputs": [],
   "source": []
  }
 ],
 "metadata": {
  "kernelspec": {
   "display_name": "Python 3",
   "language": "python",
   "name": "python3"
  },
  "language_info": {
   "codemirror_mode": {
    "name": "ipython",
    "version": 3
   },
   "file_extension": ".py",
   "mimetype": "text/x-python",
   "name": "python",
   "nbconvert_exporter": "python",
   "pygments_lexer": "ipython3",
   "version": "3.7.4"
  },
  "varInspector": {
   "cols": {
    "lenName": 16,
    "lenType": 16,
    "lenVar": 40
   },
   "kernels_config": {
    "python": {
     "delete_cmd_postfix": "",
     "delete_cmd_prefix": "del ",
     "library": "var_list.py",
     "varRefreshCmd": "print(var_dic_list())"
    },
    "r": {
     "delete_cmd_postfix": ") ",
     "delete_cmd_prefix": "rm(",
     "library": "var_list.r",
     "varRefreshCmd": "cat(var_dic_list()) "
    }
   },
   "types_to_exclude": [
    "module",
    "function",
    "builtin_function_or_method",
    "instance",
    "_Feature"
   ],
   "window_display": false
  }
 },
 "nbformat": 4,
 "nbformat_minor": 4
}
